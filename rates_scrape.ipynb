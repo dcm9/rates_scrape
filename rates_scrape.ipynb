{
 "cells": [
  {
   "cell_type": "markdown",
   "id": "24414e4b",
   "metadata": {},
   "source": [
    "## Part 1. Rates Scrape"
   ]
  },
  {
   "cell_type": "code",
   "execution_count": 2,
   "id": "ea67b9b3",
   "metadata": {},
   "outputs": [],
   "source": [
    "from selenium import webdriver\n",
    "from selenium.webdriver.common.keys import Keys\n",
    "from selenium.webdriver.common.by import By\n",
    "import pandas as pd\n",
    "import os\n",
    "import time\n",
    "import docx\n",
    "from docx.shared import Pt"
   ]
  },
  {
   "cell_type": "code",
   "execution_count": 52,
   "id": "916a6731",
   "metadata": {},
   "outputs": [],
   "source": [
    "time_today = time.strftime('%d_%b_%Y',time.localtime())"
   ]
  },
  {
   "cell_type": "code",
   "execution_count": 53,
   "id": "9ac06b92",
   "metadata": {},
   "outputs": [],
   "source": [
    "mydoc = docx.Document()\n",
    "\n",
    "style = mydoc.styles['Normal']\n",
    "font = style.font\n",
    "font.name = 'Arial'\n",
    "font.size = Pt(12)"
   ]
  },
  {
   "cell_type": "code",
   "execution_count": 54,
   "id": "f979f592",
   "metadata": {},
   "outputs": [
    {
     "data": {
      "text/html": [
       "<div>\n",
       "<style scoped>\n",
       "    .dataframe tbody tr th:only-of-type {\n",
       "        vertical-align: middle;\n",
       "    }\n",
       "\n",
       "    .dataframe tbody tr th {\n",
       "        vertical-align: top;\n",
       "    }\n",
       "\n",
       "    .dataframe thead th {\n",
       "        text-align: right;\n",
       "    }\n",
       "</style>\n",
       "<table border=\"1\" class=\"dataframe\">\n",
       "  <thead>\n",
       "    <tr style=\"text-align: right;\">\n",
       "      <th></th>\n",
       "      <th>Unnamed: 0</th>\n",
       "      <th>name</th>\n",
       "      <th>rate</th>\n",
       "    </tr>\n",
       "  </thead>\n",
       "  <tbody>\n",
       "    <tr>\n",
       "      <th>0</th>\n",
       "      <td>0</td>\n",
       "      <td>libor</td>\n",
       "      <td>2.86000</td>\n",
       "    </tr>\n",
       "    <tr>\n",
       "      <th>1</th>\n",
       "      <td>1</td>\n",
       "      <td>sofr</td>\n",
       "      <td>5.09366</td>\n",
       "    </tr>\n",
       "    <tr>\n",
       "      <th>2</th>\n",
       "      <td>2</td>\n",
       "      <td>sonia</td>\n",
       "      <td>4.93100</td>\n",
       "    </tr>\n",
       "    <tr>\n",
       "      <th>3</th>\n",
       "      <td>3</td>\n",
       "      <td>euribor</td>\n",
       "      <td>3.58500</td>\n",
       "    </tr>\n",
       "  </tbody>\n",
       "</table>\n",
       "</div>"
      ],
      "text/plain": [
       "   Unnamed: 0     name     rate\n",
       "0           0    libor  2.86000\n",
       "1           1     sofr  5.09366\n",
       "2           2    sonia  4.93100\n",
       "3           3  euribor  3.58500"
      ]
     },
     "execution_count": 54,
     "metadata": {},
     "output_type": "execute_result"
    }
   ],
   "source": [
    "rates_df = pd.read_csv('rates')\n",
    "rates_df"
   ]
  },
  {
   "cell_type": "code",
   "execution_count": 55,
   "id": "148227a8",
   "metadata": {},
   "outputs": [],
   "source": [
    "prior_libor = rates_df['rate'].iloc[0]\n",
    "prior_sofr = rates_df['rate'].iloc[1]\n",
    "prior_sonia = rates_df['rate'].iloc[2]\n",
    "prior_euribor = rates_df['rate'].iloc[3]"
   ]
  },
  {
   "cell_type": "code",
   "execution_count": 56,
   "id": "ce347938",
   "metadata": {},
   "outputs": [],
   "source": [
    "driver = webdriver.Chrome()\n",
    "driver.get(\"https://www.nyse.com/bell/calendar\")\n",
    "time.sleep(3)"
   ]
  },
  {
   "cell_type": "code",
   "execution_count": 57,
   "id": "b23a3066",
   "metadata": {},
   "outputs": [
    {
     "name": "stdout",
     "output_type": "stream",
     "text": [
      "NYSE Opening Bell: American Homes 4 Rent (NYSE: AMH)\n"
     ]
    },
    {
     "data": {
      "text/plain": [
       "<docx.text.run.Run at 0x26097f111f0>"
      ]
     },
     "execution_count": 57,
     "metadata": {},
     "output_type": "execute_result"
    }
   ],
   "source": [
    "first_bell = driver.find_element(By.XPATH, '/html/body/div[1]/div/div[1]/div[3]/div[2]/div[1]/div[2]/div[1]/h3')\n",
    "\n",
    "if 'Opening Bell' in first_bell.text:\n",
    "    company_opening_bell = driver.find_element(By.XPATH, '/html/body/div[1]/div/div[1]/div[3]/div[2]/div[1]/div[2]/div[1]/h3').text\n",
    "else:\n",
    "    company_opening_bell = driver.find_element(By.XPATH, '/html/body/div[1]/div/div[1]/div[3]/div[2]/div[2]/div[2]/div[1]/h3').text\n",
    "\n",
    "opening_company = company_opening_bell.split('Rings')[0][:-1]\n",
    "\n",
    "print('NYSE Opening Bell: ' + opening_company)\n",
    "first_par = mydoc.add_paragraph()\n",
    "first_par.style = mydoc.styles['Normal']\n",
    "\n",
    "first_par.add_run('NYSE Opening Bell: ').bold = True\n",
    "first_par.add_run(opening_company)"
   ]
  },
  {
   "cell_type": "code",
   "execution_count": 58,
   "id": "fbffe906",
   "metadata": {},
   "outputs": [
    {
     "name": "stdout",
     "output_type": "stream",
     "text": [
      "WSJ 1-Year LIBOR:2.86% Change is:0.0%\n"
     ]
    },
    {
     "data": {
      "text/plain": [
       "<docx.text.run.Run at 0x2609902c4f0>"
      ]
     },
     "execution_count": 58,
     "metadata": {},
     "output_type": "execute_result"
    }
   ],
   "source": [
    "driver.get('https://www.wsj.com/market-data/bonds')\n",
    "time.sleep(5)\n",
    "\n",
    "today_libor_oneyr = driver.find_element(By.XPATH, '//*[@id=\"root\"]/div/div/div/div[2]/div[4]/div[1]/div[6]/table/tbody/tr[5]/td[2]').text\n",
    "#last_libor_oneyr = driver.find_element(By.XPATH, '//*[@id=\"root\"]/div/div/div/div[2]/div[4]/div[1]/div[6]/table/tbody/tr[5]/td[3]').text\n",
    "#//*[@id=\"root\"]/div/div/div/div[2]/div[4]/div[1]/div[6]/table/tbody/tr[5]/td[2]\n",
    "\n",
    "libor_chg = round((float(today_libor_oneyr) - float(prior_libor))/float(prior_libor) * 100,5)\n",
    "\n",
    "print('WSJ 1-Year LIBOR:' + str(today_libor_oneyr) + '%' + ' Change is:' + str(libor_chg) + '%')\n",
    "first_par.add_run('\\nWSJ 1-Year LIBOR: ').bold = True\n",
    "first_par.add_run(str(today_libor_oneyr) + '%' + ' (' + str(libor_chg) + '%' + ' from previous rate'+')')"
   ]
  },
  {
   "cell_type": "code",
   "execution_count": 59,
   "id": "b21fea00",
   "metadata": {
    "scrolled": true
   },
   "outputs": [
    {
     "name": "stdout",
     "output_type": "stream",
     "text": [
      "Federal Reserve Bank of NY 90-day SOFR:5.09929% Change is:0.11053%\n"
     ]
    },
    {
     "data": {
      "text/plain": [
       "<docx.text.run.Run at 0x260994047f0>"
      ]
     },
     "execution_count": 59,
     "metadata": {},
     "output_type": "execute_result"
    }
   ],
   "source": [
    "driver.get('https://www.newyorkfed.org/markets/reference-rates/sofr-averages-and-index')\n",
    "time.sleep(3)\n",
    "\n",
    "today_sofr_ninetyday = driver.find_element(By.XPATH,'//*[@id=\"pr_id_1-table\"]/tbody/tr[1]/td[3]').text\n",
    "#last_sofr_ninetyday = driver.find_element(By.XPATH, '//*[@id=\"pr_id_1-table\"]/tbody/tr[2]/td[3]').text\n",
    "\n",
    "sofr_chg = round((float(today_sofr_ninetyday) - float(prior_sofr))/float(prior_sofr) * 100,5)\n",
    "\n",
    "print('Federal Reserve Bank of NY 90-day SOFR:' + str(today_sofr_ninetyday) + '%' + ' Change is:' + str(sofr_chg) + '%')\n",
    "first_par.add_run('\\nFederal Reserve Bank of NY 90-day SOFR: ').bold = True\n",
    "first_par.add_run(str(today_sofr_ninetyday) + '%' + ' (' + str(sofr_chg) + '%' + ' from previous rate'+')')"
   ]
  },
  {
   "cell_type": "code",
   "execution_count": 60,
   "id": "256a9a3b",
   "metadata": {},
   "outputs": [
    {
     "name": "stdout",
     "output_type": "stream",
     "text": [
      "Bank of England 1-Month SONIA Rate:4.9315 % Change is:0.01014%\n"
     ]
    },
    {
     "data": {
      "text/plain": [
       "<docx.text.run.Run at 0x2609902c4c0>"
      ]
     },
     "execution_count": 60,
     "metadata": {},
     "output_type": "execute_result"
    }
   ],
   "source": [
    "#1-month SONIA and chg\n",
    "driver.get('https://www.global-rates.com/en/interest-rates/sonia/sonia.aspx')\n",
    "time.sleep(3)\n",
    "\n",
    "today_sonia_onemth = driver.find_element(By.XPATH,'//*[@id=\"ctl00\"]/table[4]/tbody/tr/td/table/tbody/tr[2]/td[2]/table[4]/tbody/tr/td[1]/table/tbody/tr[2]/td[2]').text[:-1]\n",
    "#last_sonia_onemth = driver.find_element(By.XPATH, '//*[@id=\"euribor-sonia-gilt-and-swap-rates\"]/div/div[2]/div[2]/div/div/table/tbody/tr[2]/td[3]').text[:-1]\n",
    "\n",
    "sonia_chg = round((float(today_sonia_onemth) - float(prior_sonia))/float(prior_sonia) * 100,5)\n",
    "\n",
    "print('Bank of England 1-Month SONIA Rate:'  + str(today_sonia_onemth) + '%' + ' Change is:' + str(sonia_chg) + '%')\n",
    "first_par.add_run('\\nBank of England 1-Month SONIA Rate: ').bold = True\n",
    "first_par.add_run(str(today_sonia_onemth) + '%' + ' (' + str(sonia_chg) + '%' + ' from previous rate'+')')"
   ]
  },
  {
   "cell_type": "code",
   "execution_count": 61,
   "id": "341eb9f4",
   "metadata": {},
   "outputs": [
    {
     "name": "stdout",
     "output_type": "stream",
     "text": [
      "EMMI 1-Month Euribor Rate:3.57800% Change is:-0.19526%\n"
     ]
    },
    {
     "data": {
      "text/plain": [
       "<docx.text.run.Run at 0x26099404c40>"
      ]
     },
     "execution_count": 61,
     "metadata": {},
     "output_type": "execute_result"
    }
   ],
   "source": [
    "#1-month EURIBOR and chg\n",
    "driver.get('https://www.chathamfinancial.com/technology/european-market-rates')\n",
    "time.sleep(3)\n",
    "\n",
    "today_euribor_onemth = driver.find_element(By.XPATH,'//*[@id=\"euribor-sonia-gilt-and-swap-rates\"]/div/div[2]/div[1]/div/div/table/tbody/tr[1]/td[2]').text[:-1]\n",
    "\n",
    "euribor_chg = round((float(today_euribor_onemth) - float(prior_euribor))/float(prior_euribor) * 100,5)\n",
    "\n",
    "print('EMMI 1-Month Euribor Rate:' + str(today_euribor_onemth) + '%' + ' Change is:' + str(euribor_chg) + '%')\n",
    "first_par.add_run('\\nEMMI 1-Month Euribor Rate: ').bold = True\n",
    "first_par.add_run(str(today_euribor_onemth) + '%' + ' (' + str(euribor_chg) + '%' + ' from previous rate'+')')"
   ]
  },
  {
   "cell_type": "code",
   "execution_count": 62,
   "id": "eb7f7bb9",
   "metadata": {},
   "outputs": [],
   "source": [
    "rates_df['rate'] = [today_libor_oneyr,today_sofr_ninetyday,today_sonia_onemth,today_euribor_onemth]\n",
    "os.remove('rates')\n",
    "rates_df.to_csv('rates',index=False)"
   ]
  },
  {
   "cell_type": "markdown",
   "id": "d22f1956",
   "metadata": {},
   "source": [
    "## Part 2. Stock Scrape"
   ]
  },
  {
   "cell_type": "code",
   "execution_count": 63,
   "id": "18d44fa3",
   "metadata": {},
   "outputs": [
    {
     "name": "stdout",
     "output_type": "stream",
     "text": [
      "Universal Stock (ENXTAM: UMG.AS): EUR 23.46(0.13 from previous close)\n",
      "WildBrain Stock (TSX: WILD.TO): CAD 1.72(-0.02 from previous close)\n",
      "Griffon Stock (NYSE: GFF): USD 41.72(0.14 from previous close)\n",
      "DEAG Stock (HAM: LOU.HM): EUR 6.0(-0.25 from previous close)\n",
      "Time Out Stock (LSE: TMO.L): GBP 48.5(0.0 from previous close)\n",
      "CTS Eventim Stock (XTRA: EVD.DE): EUR 59.8(-2.25 from previous close)\n",
      "Live Nation Stock (NYSE: LYV): USD 87.75(-1.58 from previous close)\n",
      "Playboy Group Stock (NASDAQ: PLBY): USD 1.93(0.08 from previous close)\n",
      "Falcon's Beyond SPAC Stock (NYSE: FZT): USD 10.47(-0.06 from previous close)\n"
     ]
    }
   ],
   "source": [
    "import yfinance as yfi\n",
    "\n",
    "tickers = ['UMG.AS','WILD.TO','GFF','LOU.HM','TMO.L','EVD.DE','LYV','PLBY','FZT']\n",
    "corp_names = ['Universal Stock','WildBrain Stock','Griffon Stock','DEAG Stock',\n",
    "             'Time Out Stock','CTS Eventim Stock','Live Nation Stock','Playboy Group Stock','Falcon\\'s Beyond SPAC Stock']\n",
    "exchanges = ['ENXTAM','TSX','NYSE','HAM','LSE','XTRA','NYSE','NASDAQ','NYSE']\n",
    "second_par = mydoc.add_paragraph()\n",
    "second_par.style = mydoc.styles['Normal']\n",
    "\n",
    "\n",
    "for i in range(len(tickers)):\n",
    "    temp_current_price = yfi.Ticker(tickers[i]).info['currentPrice']\n",
    "    temp_currency = yfi.Ticker(tickers[i]).info['financialCurrency']\n",
    "    corp_name = corp_names[i]\n",
    "    close_chg = yfi.Ticker(tickers[i]).info['currentPrice'] - yfi.Ticker(tickers[i]).info['previousClose']\n",
    "    \n",
    "    print(corp_name + ' ' + '(' + exchanges[i] + ': ' + tickers[i] + ')' + ': ' + temp_currency + ' '+ str(temp_current_price) + '(' + str(round(close_chg,2)) + ' from previous close)')\n",
    "    second_par.add_run('\\n' + corp_name).bold = True\n",
    "    second_par.add_run(' ' + '(' + exchanges[i] + ': ' + tickers[i] + ')' + ': ' + temp_currency + ' '+ str(temp_current_price) + '(' + str(round(close_chg,2)) + ' from previous close)')\n",
    "    "
   ]
  },
  {
   "cell_type": "code",
   "execution_count": 64,
   "id": "13119680",
   "metadata": {},
   "outputs": [],
   "source": [
    "mydoc.save('C:\\\\Users\\\\Username\\\\Desktop' + '\\\\' + time_today + '.docx')"
   ]
  },
  {
   "cell_type": "markdown",
   "id": "d8da750e",
   "metadata": {},
   "source": [
    "## Part 3. News Run"
   ]
  },
  {
   "cell_type": "code",
   "execution_count": 6,
   "id": "f1250880",
   "metadata": {},
   "outputs": [
    {
     "data": {
      "text/html": [
       "<div>\n",
       "<style scoped>\n",
       "    .dataframe tbody tr th:only-of-type {\n",
       "        vertical-align: middle;\n",
       "    }\n",
       "\n",
       "    .dataframe tbody tr th {\n",
       "        vertical-align: top;\n",
       "    }\n",
       "\n",
       "    .dataframe thead th {\n",
       "        text-align: right;\n",
       "    }\n",
       "</style>\n",
       "<table border=\"1\" class=\"dataframe\">\n",
       "  <thead>\n",
       "    <tr style=\"text-align: right;\">\n",
       "      <th></th>\n",
       "      <th>Unnamed: 0</th>\n",
       "      <th>Unnamed: 1</th>\n",
       "      <th>Company Name</th>\n",
       "      <th>Unnamed: 3</th>\n",
       "      <th>Unnamed: 4</th>\n",
       "    </tr>\n",
       "  </thead>\n",
       "  <tbody>\n",
       "    <tr>\n",
       "      <th>0</th>\n",
       "      <td>x</td>\n",
       "      <td>#</td>\n",
       "      <td>Keyword / Company Searches</td>\n",
       "      <td>Website Link</td>\n",
       "      <td>Website Link</td>\n",
       "    </tr>\n",
       "    <tr>\n",
       "      <th>1</th>\n",
       "      <td>NaN</td>\n",
       "      <td>1)</td>\n",
       "      <td>Advance Publications</td>\n",
       "      <td>Advance</td>\n",
       "      <td>https://www.advance.com/</td>\n",
       "    </tr>\n",
       "    <tr>\n",
       "      <th>2</th>\n",
       "      <td>NaN</td>\n",
       "      <td>2)</td>\n",
       "      <td>Ambassador Theatre Group</td>\n",
       "      <td>Home - ATG - Ambassador Theatre Group</td>\n",
       "      <td>https://www.atg.co.uk/</td>\n",
       "    </tr>\n",
       "    <tr>\n",
       "      <th>3</th>\n",
       "      <td>NaN</td>\n",
       "      <td>3)</td>\n",
       "      <td>Andrew Lloyd Webber</td>\n",
       "      <td>Home - Andrew Lloyd Webber</td>\n",
       "      <td>https://www.andrewlloydwebber.com/</td>\n",
       "    </tr>\n",
       "    <tr>\n",
       "      <th>4</th>\n",
       "      <td>NaN</td>\n",
       "      <td>4)</td>\n",
       "      <td>Anthem Entertainment</td>\n",
       "      <td>Anthem Entertainment | Anthem Entertainment Gr...</td>\n",
       "      <td>https://www.anthementertainment.com/</td>\n",
       "    </tr>\n",
       "  </tbody>\n",
       "</table>\n",
       "</div>"
      ],
      "text/plain": [
       "  Unnamed: 0 Unnamed: 1                Company Name  \\\n",
       "0          x          #  Keyword / Company Searches   \n",
       "1        NaN         1)        Advance Publications   \n",
       "2        NaN         2)    Ambassador Theatre Group   \n",
       "3        NaN         3)         Andrew Lloyd Webber   \n",
       "4        NaN         4)        Anthem Entertainment   \n",
       "\n",
       "                                          Unnamed: 3  \\\n",
       "0                                       Website Link   \n",
       "1                                            Advance   \n",
       "2              Home - ATG - Ambassador Theatre Group   \n",
       "3                         Home - Andrew Lloyd Webber   \n",
       "4  Anthem Entertainment | Anthem Entertainment Gr...   \n",
       "\n",
       "                             Unnamed: 4  \n",
       "0                          Website Link  \n",
       "1              https://www.advance.com/  \n",
       "2                https://www.atg.co.uk/  \n",
       "3    https://www.andrewlloydwebber.com/  \n",
       "4  https://www.anthementertainment.com/  "
      ]
     },
     "execution_count": 6,
     "metadata": {},
     "output_type": "execute_result"
    }
   ],
   "source": [
    "import os\n",
    "import os.path\n",
    "\n",
    "news_df = pd.read_csv(r'C:\\Users\\Username\\Downloads\\news_run.csv').rename(columns = {'News Run':'Company Name'}).drop(8)\n",
    "news_df.head(5)"
   ]
  },
  {
   "cell_type": "code",
   "execution_count": 66,
   "id": "4c03230a",
   "metadata": {},
   "outputs": [
    {
     "data": {
      "text/plain": [
       "1         Advance Publications\n",
       "2     Ambassador Theatre Group\n",
       "3          Andrew Lloyd Webber\n",
       "4         Anthem Entertainment\n",
       "5       Authentic Brands Group\n",
       "                ...           \n",
       "71                       Virgo\n",
       "72                     Vivendi\n",
       "73                   WildBrain\n",
       "74               Wolfgang Puck\n",
       "75                 Yoo Capital\n",
       "Name: Company Name, Length: 74, dtype: object"
      ]
     },
     "execution_count": 66,
     "metadata": {},
     "output_type": "execute_result"
    }
   ],
   "source": [
    "#cleaning\n",
    "news_df['Company Name'].iloc[1:75]"
   ]
  },
  {
   "cell_type": "code",
   "execution_count": 67,
   "id": "4bdecace",
   "metadata": {},
   "outputs": [
    {
     "data": {
      "text/html": [
       "<div>\n",
       "<style scoped>\n",
       "    .dataframe tbody tr th:only-of-type {\n",
       "        vertical-align: middle;\n",
       "    }\n",
       "\n",
       "    .dataframe tbody tr th {\n",
       "        vertical-align: top;\n",
       "    }\n",
       "\n",
       "    .dataframe thead th {\n",
       "        text-align: right;\n",
       "    }\n",
       "</style>\n",
       "<table border=\"1\" class=\"dataframe\">\n",
       "  <thead>\n",
       "    <tr style=\"text-align: right;\">\n",
       "      <th></th>\n",
       "      <th>Company Name</th>\n",
       "      <th>News Title</th>\n",
       "      <th>News Link</th>\n",
       "    </tr>\n",
       "  </thead>\n",
       "  <tbody>\n",
       "  </tbody>\n",
       "</table>\n",
       "</div>"
      ],
      "text/plain": [
       "Empty DataFrame\n",
       "Columns: [Company Name, News Title, News Link]\n",
       "Index: []"
      ]
     },
     "execution_count": 67,
     "metadata": {},
     "output_type": "execute_result"
    }
   ],
   "source": [
    "news_run_df = pd.DataFrame(columns = ['Company Name','News Title','News Link'])\n",
    "news_run_df"
   ]
  },
  {
   "cell_type": "code",
   "execution_count": 68,
   "id": "b3aeea21",
   "metadata": {},
   "outputs": [],
   "source": [
    "from selenium.common.exceptions import NoSuchElementException"
   ]
  },
  {
   "cell_type": "code",
   "execution_count": 69,
   "id": "4f4f555c",
   "metadata": {},
   "outputs": [],
   "source": [
    "def search(name):\n",
    "    driver.get('https://news.google.com/')\n",
    "    article_element = driver.find_element(By.XPATH, '//*[@id=\"gb\"]/div[2]/div[2]/div[2]/form/div[1]/div/div/div/div/div[1]/input[2]')\n",
    "    \n",
    "    article_element.click()\n",
    "    article_element.clear()\n",
    "    article_element.send_keys(name + ' when:1d')\n",
    "    article_element.send_keys(Keys.RETURN)\n",
    "\n",
    "def news_run(name):\n",
    "    search(name)\n",
    "    \n",
    "    for i in range(0,10):\n",
    "        test_xpath = '//*[@id=\"yDmH0d\"]/c-wiz[' + str(i) + ']/div/div[2]/div[2]/div/main/c-wiz/div[1]/div[1]/div/article/h3/a'\n",
    "        try:\n",
    "            driver.find_element(By.XPATH, test_xpath)\n",
    "        except NoSuchElementException:\n",
    "            driver.refresh()\n",
    "            print(f\"No article found at index {i}\")\n",
    "        else:\n",
    "            first_article_xpath = '//*[@id=\"yDmH0d\"]/c-wiz[' + str(i)+ ']/div/div[2]/div[2]/div/main/c-wiz/div[1]/div[1]/div/article/h3/a'\n",
    "            second_article_xpath = '//*[@id=\"yDmH0d\"]/c-wiz[' + str(i)+ ']/div/div[2]/div[2]/div/main/c-wiz/div[1]/div[2]/div/article/h3/a'\n",
    "            third_article_xpath = '//*[@id=\"yDmH0d\"]/c-wiz[' + str(i)+ ']/div/div[2]/div[2]/div/main/c-wiz/div[1]/div[3]/div/article/h3/a'\n",
    "            fourth_article_xpath = '//*[@id=\"yDmH0d\"]/c-wiz[' + str(i)+ ']/div/div[2]/div[2]/div/main/c-wiz/div[1]/div[4]/div/article/h3/a'\n",
    "            fifth_article_xpath = '//*[@id=\"yDmH0d\"]/c-wiz[' + str(i)+ ']/div/div[2]/div[2]/div/main/c-wiz/div[1]/div[5]/div/article/h3/a'\n",
    "            break\n",
    "    else:\n",
    "        return\n",
    "    \n",
    "    try:\n",
    "        first_article_xpath\n",
    "    except:\n",
    "        news_run_df.loc[len(news_run_df)] = [name,'No News Today','No News Today']\n",
    "        return\n",
    "\n",
    "\n",
    "    article_xpaths = [first_article_xpath,second_article_xpath,third_article_xpath,fourth_article_xpath,fifth_article_xpath]\n",
    "    \n",
    "    for i in range(len(article_xpaths)):\n",
    "        #some companies do not have five articles when searched, then we break after the try\n",
    "        try:\n",
    "            temp_title = driver.find_element(By.XPATH, article_xpaths[i]).text\n",
    "            temp_link = driver.find_element(By.XPATH, article_xpaths[i]).get_attribute('href')\n",
    "\n",
    "            new_row = pd.Series({'Company Name': name, 'News Title': temp_title, 'News Link': temp_link})\n",
    "            news_run_df.loc[len(news_run_df)] = [name,temp_title,temp_link]\n",
    "        except:\n",
    "            return\n",
    "\n",
    "\n"
   ]
  },
  {
   "cell_type": "code",
   "execution_count": 70,
   "id": "608959e2",
   "metadata": {
    "scrolled": true
   },
   "outputs": [
    {
     "name": "stdout",
     "output_type": "stream",
     "text": [
      "No article found at index 0\n",
      "No article found at index 0\n",
      "No article found at index 0\n",
      "No article found at index 0\n",
      "No article found at index 0\n",
      "No article found at index 0\n",
      "No article found at index 0\n",
      "No article found at index 0\n",
      "No article found at index 0\n",
      "No article found at index 0\n",
      "No article found at index 1\n",
      "No article found at index 2\n",
      "No article found at index 3\n",
      "No article found at index 4\n",
      "No article found at index 5\n",
      "No article found at index 6\n",
      "No article found at index 7\n",
      "No article found at index 8\n",
      "No article found at index 9\n",
      "No article found at index 0\n",
      "No article found at index 0\n",
      "No article found at index 0\n",
      "No article found at index 0\n",
      "No article found at index 0\n",
      "No article found at index 1\n",
      "No article found at index 2\n",
      "No article found at index 3\n",
      "No article found at index 4\n",
      "No article found at index 5\n",
      "No article found at index 6\n",
      "No article found at index 7\n",
      "No article found at index 8\n",
      "No article found at index 9\n",
      "No article found at index 0\n",
      "No article found at index 0\n",
      "No article found at index 0\n",
      "No article found at index 0\n",
      "No article found at index 0\n",
      "No article found at index 0\n",
      "No article found at index 0\n",
      "No article found at index 0\n",
      "No article found at index 0\n",
      "No article found at index 0\n",
      "No article found at index 0\n",
      "No article found at index 1\n",
      "No article found at index 2\n",
      "No article found at index 3\n",
      "No article found at index 4\n",
      "No article found at index 5\n",
      "No article found at index 6\n",
      "No article found at index 7\n",
      "No article found at index 8\n",
      "No article found at index 9\n",
      "No article found at index 0\n",
      "No article found at index 0\n",
      "No article found at index 1\n",
      "No article found at index 2\n",
      "No article found at index 3\n",
      "No article found at index 4\n",
      "No article found at index 5\n",
      "No article found at index 6\n",
      "No article found at index 7\n",
      "No article found at index 8\n",
      "No article found at index 9\n",
      "No article found at index 0\n",
      "No article found at index 0\n",
      "No article found at index 1\n",
      "No article found at index 2\n",
      "No article found at index 3\n",
      "No article found at index 4\n",
      "No article found at index 5\n",
      "No article found at index 6\n",
      "No article found at index 7\n",
      "No article found at index 8\n",
      "No article found at index 9\n",
      "No article found at index 0\n",
      "No article found at index 1\n",
      "No article found at index 2\n",
      "No article found at index 3\n",
      "No article found at index 4\n",
      "No article found at index 5\n",
      "No article found at index 6\n",
      "No article found at index 7\n",
      "No article found at index 8\n",
      "No article found at index 9\n",
      "No article found at index 0\n",
      "No article found at index 0\n",
      "No article found at index 1\n",
      "No article found at index 2\n",
      "No article found at index 3\n",
      "No article found at index 4\n",
      "No article found at index 5\n",
      "No article found at index 6\n",
      "No article found at index 7\n",
      "No article found at index 8\n",
      "No article found at index 9\n",
      "No article found at index 0\n",
      "No article found at index 0\n",
      "No article found at index 1\n",
      "No article found at index 2\n",
      "No article found at index 3\n",
      "No article found at index 4\n",
      "No article found at index 5\n",
      "No article found at index 6\n",
      "No article found at index 7\n",
      "No article found at index 8\n",
      "No article found at index 9\n",
      "No article found at index 0\n",
      "No article found at index 0\n",
      "No article found at index 1\n",
      "No article found at index 2\n",
      "No article found at index 3\n",
      "No article found at index 4\n",
      "No article found at index 5\n",
      "No article found at index 6\n",
      "No article found at index 7\n",
      "No article found at index 8\n",
      "No article found at index 9\n",
      "No article found at index 0\n",
      "No article found at index 0\n",
      "No article found at index 1\n",
      "No article found at index 2\n",
      "No article found at index 3\n",
      "No article found at index 4\n",
      "No article found at index 5\n",
      "No article found at index 6\n",
      "No article found at index 7\n",
      "No article found at index 8\n",
      "No article found at index 9\n",
      "No article found at index 0\n",
      "No article found at index 0\n",
      "No article found at index 1\n",
      "No article found at index 2\n",
      "No article found at index 3\n",
      "No article found at index 4\n",
      "No article found at index 5\n",
      "No article found at index 6\n",
      "No article found at index 7\n",
      "No article found at index 8\n",
      "No article found at index 9\n",
      "No article found at index 0\n",
      "No article found at index 0\n",
      "No article found at index 0\n",
      "No article found at index 0\n",
      "No article found at index 0\n",
      "No article found at index 0\n",
      "No article found at index 0\n",
      "No article found at index 0\n",
      "No article found at index 0\n",
      "No article found at index 1\n",
      "No article found at index 2\n",
      "No article found at index 3\n",
      "No article found at index 4\n",
      "No article found at index 5\n",
      "No article found at index 6\n",
      "No article found at index 7\n",
      "No article found at index 8\n",
      "No article found at index 9\n",
      "No article found at index 0\n",
      "No article found at index 0\n",
      "No article found at index 0\n",
      "No article found at index 0\n",
      "No article found at index 0\n",
      "No article found at index 0\n",
      "No article found at index 1\n",
      "No article found at index 2\n",
      "No article found at index 3\n",
      "No article found at index 4\n",
      "No article found at index 5\n",
      "No article found at index 6\n",
      "No article found at index 7\n",
      "No article found at index 8\n",
      "No article found at index 9\n",
      "No article found at index 0\n",
      "No article found at index 1\n",
      "No article found at index 2\n",
      "No article found at index 3\n",
      "No article found at index 4\n",
      "No article found at index 5\n",
      "No article found at index 6\n",
      "No article found at index 7\n",
      "No article found at index 8\n",
      "No article found at index 9\n",
      "No article found at index 0\n",
      "No article found at index 0\n",
      "No article found at index 0\n",
      "No article found at index 0\n",
      "No article found at index 0\n",
      "No article found at index 0\n",
      "No article found at index 0\n",
      "No article found at index 0\n",
      "No article found at index 0\n",
      "No article found at index 0\n",
      "No article found at index 1\n",
      "No article found at index 2\n",
      "No article found at index 3\n",
      "No article found at index 4\n",
      "No article found at index 5\n",
      "No article found at index 6\n",
      "No article found at index 7\n",
      "No article found at index 8\n",
      "No article found at index 9\n",
      "No article found at index 0\n",
      "No article found at index 0\n",
      "No article found at index 0\n",
      "No article found at index 0\n",
      "No article found at index 0\n",
      "No article found at index 0\n",
      "No article found at index 0\n"
     ]
    },
    {
     "data": {
      "text/plain": [
       "1     None\n",
       "2     None\n",
       "3     None\n",
       "4     None\n",
       "5     None\n",
       "      ... \n",
       "71    None\n",
       "72    None\n",
       "73    None\n",
       "74    None\n",
       "75    None\n",
       "Name: Company Name, Length: 74, dtype: object"
      ]
     },
     "execution_count": 70,
     "metadata": {},
     "output_type": "execute_result"
    }
   ],
   "source": [
    "news_df['Company Name'].iloc[1:75].apply(news_run)"
   ]
  },
  {
   "cell_type": "code",
   "execution_count": 71,
   "id": "79a9c2a5",
   "metadata": {},
   "outputs": [],
   "source": [
    "news_run_df.drop_duplicates(keep='first',inplace=True,subset=['News Link'])"
   ]
  },
  {
   "cell_type": "code",
   "execution_count": null,
   "id": "3e77dae9",
   "metadata": {},
   "outputs": [],
   "source": []
  },
  {
   "cell_type": "code",
   "execution_count": null,
   "id": "efb29927",
   "metadata": {},
   "outputs": [],
   "source": []
  }
 ],
 "metadata": {
  "kernelspec": {
   "display_name": "Python 3 (ipykernel)",
   "language": "python",
   "name": "python3"
  },
  "language_info": {
   "codemirror_mode": {
    "name": "ipython",
    "version": 3
   },
   "file_extension": ".py",
   "mimetype": "text/x-python",
   "name": "python",
   "nbconvert_exporter": "python",
   "pygments_lexer": "ipython3",
   "version": "3.9.12"
  }
 },
 "nbformat": 4,
 "nbformat_minor": 5
}
